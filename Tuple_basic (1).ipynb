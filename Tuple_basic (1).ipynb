{
 "cells": [
  {
   "cell_type": "markdown",
   "id": "8ba2a93e-b822-4b23-8e1b-f7e984941c61",
   "metadata": {},
   "source": [
    "                                 Tuple"
   ]
  },
  {
   "cell_type": "code",
   "execution_count": 1,
   "id": "a322110e-69da-49bf-bd7b-9c2dfc96d911",
   "metadata": {},
   "outputs": [
    {
     "data": {
      "text/plain": [
       "()"
      ]
     },
     "execution_count": 1,
     "metadata": {},
     "output_type": "execute_result"
    }
   ],
   "source": [
    "t=()           #Empty Tuple\n",
    "t"
   ]
  },
  {
   "cell_type": "code",
   "execution_count": 3,
   "id": "a5e55373-8350-4a39-86ea-c72d245a6e7a",
   "metadata": {},
   "outputs": [
    {
     "name": "stdout",
     "output_type": "stream",
     "text": [
      "<class 'tuple'>\n"
     ]
    }
   ],
   "source": [
    "print(type(t))"
   ]
  },
  {
   "cell_type": "code",
   "execution_count": 5,
   "id": "febe0382-d5ac-4cd9-bd83-a8bb284f18cf",
   "metadata": {},
   "outputs": [
    {
     "data": {
      "text/plain": [
       "(10, 20, 30, 40, 40)"
      ]
     },
     "execution_count": 5,
     "metadata": {},
     "output_type": "execute_result"
    }
   ],
   "source": [
    "t1=(10,20,30,40,40)\n",
    "t1"
   ]
  },
  {
   "cell_type": "code",
   "execution_count": 7,
   "id": "3ef5cf56-0a0c-4246-bd88-24d74c352249",
   "metadata": {},
   "outputs": [
    {
     "data": {
      "text/plain": [
       "5"
      ]
     },
     "execution_count": 7,
     "metadata": {},
     "output_type": "execute_result"
    }
   ],
   "source": [
    "len(t1)"
   ]
  },
  {
   "cell_type": "code",
   "execution_count": 9,
   "id": "1664011a-db09-44f1-9e82-56b17911e791",
   "metadata": {},
   "outputs": [
    {
     "ename": "TypeError",
     "evalue": "tuple.count() takes exactly one argument (0 given)",
     "output_type": "error",
     "traceback": [
      "\u001b[1;31m---------------------------------------------------------------------------\u001b[0m",
      "\u001b[1;31mTypeError\u001b[0m                                 Traceback (most recent call last)",
      "Cell \u001b[1;32mIn[9], line 1\u001b[0m\n\u001b[1;32m----> 1\u001b[0m t1\u001b[38;5;241m.\u001b[39mcount()\n",
      "\u001b[1;31mTypeError\u001b[0m: tuple.count() takes exactly one argument (0 given)"
     ]
    }
   ],
   "source": [
    "t1.count()"
   ]
  },
  {
   "cell_type": "code",
   "execution_count": 11,
   "id": "e826817b-bf0f-4cd4-b493-1bd1cefd6166",
   "metadata": {},
   "outputs": [
    {
     "data": {
      "text/plain": [
       "1"
      ]
     },
     "execution_count": 11,
     "metadata": {},
     "output_type": "execute_result"
    }
   ],
   "source": [
    "t1.count(10)"
   ]
  },
  {
   "cell_type": "code",
   "execution_count": 13,
   "id": "9e2dbf97-72bd-4669-beba-869570c0eb91",
   "metadata": {},
   "outputs": [
    {
     "data": {
      "text/plain": [
       "1"
      ]
     },
     "execution_count": 13,
     "metadata": {},
     "output_type": "execute_result"
    }
   ],
   "source": [
    "t1.count(20)"
   ]
  },
  {
   "cell_type": "code",
   "execution_count": 15,
   "id": "82e93a5b-d02c-4dd9-bcca-ee415455772e",
   "metadata": {},
   "outputs": [
    {
     "data": {
      "text/plain": [
       "1"
      ]
     },
     "execution_count": 15,
     "metadata": {},
     "output_type": "execute_result"
    }
   ],
   "source": [
    "t1.index(20)"
   ]
  },
  {
   "cell_type": "code",
   "execution_count": 17,
   "id": "81b60647-9f1b-4af7-bf2d-d4e3722c8f8c",
   "metadata": {},
   "outputs": [
    {
     "data": {
      "text/plain": [
       "['a', 'b', 'c', 'd']"
      ]
     },
     "execution_count": 17,
     "metadata": {},
     "output_type": "execute_result"
    }
   ],
   "source": [
    "l5=['a','b','c','d']\n",
    "l5"
   ]
  },
  {
   "cell_type": "code",
   "execution_count": 21,
   "id": "4033bb23-16f0-4755-ad3b-81ba3457c11f",
   "metadata": {},
   "outputs": [
    {
     "data": {
      "text/plain": [
       "['a', 10, 'c', 'd']"
      ]
     },
     "execution_count": 21,
     "metadata": {},
     "output_type": "execute_result"
    }
   ],
   "source": [
    "l5[1]=10\n",
    "l5"
   ]
  },
  {
   "cell_type": "code",
   "execution_count": 23,
   "id": "05253e71-cb33-4750-868b-a4f961baf829",
   "metadata": {},
   "outputs": [
    {
     "data": {
      "text/plain": [
       "(100, 3.4, 'nit', True, (1+2j), [1, 2, 3], (5, 6, 7))"
      ]
     },
     "execution_count": 23,
     "metadata": {},
     "output_type": "execute_result"
    }
   ],
   "source": [
    "t2=(100,3.4,'nit',True,1+2j,[1,2,3],(5,6,7))\n",
    "t2"
   ]
  },
  {
   "cell_type": "code",
   "execution_count": 25,
   "id": "b5954bfd-9144-4ea5-b502-548624fddd18",
   "metadata": {},
   "outputs": [
    {
     "name": "stdout",
     "output_type": "stream",
     "text": [
      "()\n",
      "(10, 20, 30, 40, 40)\n",
      "(100, 3.4, 'nit', True, (1+2j), [1, 2, 3], (5, 6, 7))\n"
     ]
    }
   ],
   "source": [
    "print(t)\n",
    "print(t1)\n",
    "print(t2)"
   ]
  },
  {
   "cell_type": "code",
   "execution_count": 27,
   "id": "e496a2d1-55b2-4347-b775-c4a8b1ad0876",
   "metadata": {},
   "outputs": [
    {
     "data": {
      "text/plain": [
       "10"
      ]
     },
     "execution_count": 27,
     "metadata": {},
     "output_type": "execute_result"
    }
   ],
   "source": [
    "t1[0]"
   ]
  },
  {
   "cell_type": "code",
   "execution_count": 29,
   "id": "15321541-ee7f-429d-be10-6538ee3b6f1e",
   "metadata": {},
   "outputs": [
    {
     "data": {
      "text/plain": [
       "(10, 20, 30, 40, 40)"
      ]
     },
     "execution_count": 29,
     "metadata": {},
     "output_type": "execute_result"
    }
   ],
   "source": [
    "t1"
   ]
  },
  {
   "cell_type": "code",
   "execution_count": 31,
   "id": "672136b3-0706-4ae5-87f6-250d181c050d",
   "metadata": {},
   "outputs": [
    {
     "ename": "TypeError",
     "evalue": "'tuple' object does not support item assignment",
     "output_type": "error",
     "traceback": [
      "\u001b[1;31m---------------------------------------------------------------------------\u001b[0m",
      "\u001b[1;31mTypeError\u001b[0m                                 Traceback (most recent call last)",
      "Cell \u001b[1;32mIn[31], line 1\u001b[0m\n\u001b[1;32m----> 1\u001b[0m t1[\u001b[38;5;241m0\u001b[39m]\u001b[38;5;241m=\u001b[39m\u001b[38;5;241m100\u001b[39m\n",
      "\u001b[1;31mTypeError\u001b[0m: 'tuple' object does not support item assignment"
     ]
    }
   ],
   "source": [
    "t1[0]=100             #Tuple is Immutable/inhashable"
   ]
  },
  {
   "cell_type": "code",
   "execution_count": 37,
   "id": "cc191988-83a3-4341-8f5b-8458994729bc",
   "metadata": {},
   "outputs": [
    {
     "data": {
      "text/plain": [
       "(45678, 'cizps7789', 332000, 98765)"
      ]
     },
     "execution_count": 37,
     "metadata": {},
     "output_type": "execute_result"
    }
   ],
   "source": [
    "icici=(45678,'cizps7789',332000,98765)       #IN BANKS info is stored in Tuple format\n",
    "icici"
   ]
  },
  {
   "cell_type": "code",
   "execution_count": 39,
   "id": "b2accdab-f728-4619-b622-8e869cade20f",
   "metadata": {},
   "outputs": [
    {
     "data": {
      "text/plain": [
       "(10, 20, 30, 40, 40)"
      ]
     },
     "execution_count": 39,
     "metadata": {},
     "output_type": "execute_result"
    }
   ],
   "source": [
    "t1"
   ]
  },
  {
   "cell_type": "code",
   "execution_count": 43,
   "id": "939c1fd0-7e22-4dd8-9db0-862208a0e722",
   "metadata": {},
   "outputs": [
    {
     "data": {
      "text/plain": [
       "(10, 20, 30, 40, 40, 10, 20, 30, 40, 40, 10, 20, 30, 40, 40)"
      ]
     },
     "execution_count": 43,
     "metadata": {},
     "output_type": "execute_result"
    }
   ],
   "source": [
    "t4=t1*3              #our info is repeating.not changing\n",
    "t4"
   ]
  },
  {
   "cell_type": "code",
   "execution_count": 35,
   "id": "ce290b1f-b58c-445b-85ad-39126121b0f1",
   "metadata": {},
   "outputs": [
    {
     "ename": "TypeError",
     "evalue": "'tuple' object does not support item assignment",
     "output_type": "error",
     "traceback": [
      "\u001b[1;31m---------------------------------------------------------------------------\u001b[0m",
      "\u001b[1;31mTypeError\u001b[0m                                 Traceback (most recent call last)",
      "Cell \u001b[1;32mIn[35], line 1\u001b[0m\n\u001b[1;32m----> 1\u001b[0m icici[\u001b[38;5;241m0\u001b[39m]\u001b[38;5;241m=\u001b[39m\u001b[38;5;241m1234\u001b[39m\n\u001b[0;32m      2\u001b[0m icici\n",
      "\u001b[1;31mTypeError\u001b[0m: 'tuple' object does not support item assignment"
     ]
    }
   ],
   "source": [
    "icici[0]=1234\n",
    "icici"
   ]
  },
  {
   "cell_type": "code",
   "execution_count": 45,
   "id": "8a0245c9-be40-454c-a1e7-7843d36b7565",
   "metadata": {},
   "outputs": [
    {
     "data": {
      "text/plain": [
       "(10, 20, 30, 40, 40, 10, 20, 30, 40, 40, 10, 20, 30, 40, 40)"
      ]
     },
     "execution_count": 45,
     "metadata": {},
     "output_type": "execute_result"
    }
   ],
   "source": [
    "t4[:]"
   ]
  },
  {
   "cell_type": "code",
   "execution_count": 47,
   "id": "d28a8494-09ba-4223-b4b5-73981dbb5ef1",
   "metadata": {},
   "outputs": [
    {
     "data": {
      "text/plain": [
       "(10, 20, 30, 40, 40)"
      ]
     },
     "execution_count": 47,
     "metadata": {},
     "output_type": "execute_result"
    }
   ],
   "source": [
    "t1"
   ]
  },
  {
   "cell_type": "code",
   "execution_count": 49,
   "id": "db485149-7039-4720-b95d-0675b59bface",
   "metadata": {},
   "outputs": [
    {
     "data": {
      "text/plain": [
       "(10, 20, 30, 40, 40)"
      ]
     },
     "execution_count": 49,
     "metadata": {},
     "output_type": "execute_result"
    }
   ],
   "source": [
    "t1[:7]"
   ]
  },
  {
   "cell_type": "code",
   "execution_count": 51,
   "id": "77f4a954-1528-434d-8ad6-a587a03d3c34",
   "metadata": {},
   "outputs": [
    {
     "data": {
      "text/plain": [
       "(30, 40, 40)"
      ]
     },
     "execution_count": 51,
     "metadata": {},
     "output_type": "execute_result"
    }
   ],
   "source": [
    "t1[2:]"
   ]
  },
  {
   "cell_type": "code",
   "execution_count": 53,
   "id": "eebad4cb-8351-4c2f-a111-eccd077b5b86",
   "metadata": {},
   "outputs": [
    {
     "data": {
      "text/plain": [
       "(10, 30, 40)"
      ]
     },
     "execution_count": 53,
     "metadata": {},
     "output_type": "execute_result"
    }
   ],
   "source": [
    "t1[0:10:2]"
   ]
  },
  {
   "cell_type": "code",
   "execution_count": 55,
   "id": "56f1bcee-95f9-417f-93e9-ef1b4ec78a3b",
   "metadata": {},
   "outputs": [
    {
     "ename": "AttributeError",
     "evalue": "'tuple' object has no attribute 'remove'",
     "output_type": "error",
     "traceback": [
      "\u001b[1;31m---------------------------------------------------------------------------\u001b[0m",
      "\u001b[1;31mAttributeError\u001b[0m                            Traceback (most recent call last)",
      "Cell \u001b[1;32mIn[55], line 1\u001b[0m\n\u001b[1;32m----> 1\u001b[0m t1\u001b[38;5;241m.\u001b[39mremove(\u001b[38;5;241m30\u001b[39m)\n",
      "\u001b[1;31mAttributeError\u001b[0m: 'tuple' object has no attribute 'remove'"
     ]
    }
   ],
   "source": [
    "t1.remove(30)"
   ]
  },
  {
   "cell_type": "code",
   "execution_count": 57,
   "id": "a20a6b20-a591-4800-b9d4-19293a5b6d64",
   "metadata": {},
   "outputs": [
    {
     "ename": "AttributeError",
     "evalue": "'tuple' object has no attribute 'add'",
     "output_type": "error",
     "traceback": [
      "\u001b[1;31m---------------------------------------------------------------------------\u001b[0m",
      "\u001b[1;31mAttributeError\u001b[0m                            Traceback (most recent call last)",
      "Cell \u001b[1;32mIn[57], line 1\u001b[0m\n\u001b[1;32m----> 1\u001b[0m t1\u001b[38;5;241m.\u001b[39madd(\u001b[38;5;241m30\u001b[39m)\n",
      "\u001b[1;31mAttributeError\u001b[0m: 'tuple' object has no attribute 'add'"
     ]
    }
   ],
   "source": [
    "t1.add(30)"
   ]
  },
  {
   "cell_type": "code",
   "execution_count": 59,
   "id": "8124c53e-026a-4f3c-85dc-d050d4c51118",
   "metadata": {},
   "outputs": [
    {
     "data": {
      "text/plain": [
       "(100, 3.4, 'nit', True, (1+2j), [1, 2, 3], (5, 6, 7))"
      ]
     },
     "execution_count": 59,
     "metadata": {},
     "output_type": "execute_result"
    }
   ],
   "source": [
    "t2"
   ]
  },
  {
   "cell_type": "code",
   "execution_count": 63,
   "id": "a5c8e77b-0873-4dcf-90dd-cc408b73ef50",
   "metadata": {},
   "outputs": [
    {
     "data": {
      "text/plain": [
       "0"
      ]
     },
     "execution_count": 63,
     "metadata": {},
     "output_type": "execute_result"
    }
   ],
   "source": [
    "t2.index(100)"
   ]
  },
  {
   "cell_type": "markdown",
   "id": "67376780-f0e2-4f20-add8-708e0a361de9",
   "metadata": {},
   "source": [
    "                       Tuple completed"
   ]
  },
  {
   "cell_type": "code",
   "execution_count": null,
   "id": "ce998a95-aeb5-4beb-b50d-3ffe2121cc07",
   "metadata": {},
   "outputs": [],
   "source": []
  },
  {
   "cell_type": "code",
   "execution_count": null,
   "id": "3d2d0dc4-2a5f-4a9c-a2fd-72699c20ad8b",
   "metadata": {},
   "outputs": [],
   "source": []
  },
  {
   "cell_type": "code",
   "execution_count": null,
   "id": "5a0a9c5d-c789-4796-b207-906909fd8127",
   "metadata": {},
   "outputs": [],
   "source": []
  },
  {
   "cell_type": "code",
   "execution_count": null,
   "id": "e82a6f4c-55b9-4030-9dd9-e5b8e252a73f",
   "metadata": {},
   "outputs": [],
   "source": []
  },
  {
   "cell_type": "code",
   "execution_count": null,
   "id": "e1f8d649-7e72-418b-8d29-bfa89ed1fbdf",
   "metadata": {},
   "outputs": [],
   "source": []
  },
  {
   "cell_type": "code",
   "execution_count": null,
   "id": "93b4fb43-eb03-40c7-bf1c-27c62a68245c",
   "metadata": {},
   "outputs": [],
   "source": []
  },
  {
   "cell_type": "code",
   "execution_count": null,
   "id": "857adc76-15ec-4761-ab6b-d119360306c8",
   "metadata": {},
   "outputs": [],
   "source": []
  },
  {
   "cell_type": "code",
   "execution_count": null,
   "id": "1948083e-fb5b-44cd-b4d7-575a364a842c",
   "metadata": {},
   "outputs": [],
   "source": []
  },
  {
   "cell_type": "code",
   "execution_count": null,
   "id": "5a17a0f2-799e-4e9f-b824-c8b34bf28e8a",
   "metadata": {},
   "outputs": [],
   "source": []
  }
 ],
 "metadata": {
  "kernelspec": {
   "display_name": "Python [conda env:base] *",
   "language": "python",
   "name": "conda-base-py"
  },
  "language_info": {
   "codemirror_mode": {
    "name": "ipython",
    "version": 3
   },
   "file_extension": ".py",
   "mimetype": "text/x-python",
   "name": "python",
   "nbconvert_exporter": "python",
   "pygments_lexer": "ipython3",
   "version": "3.12.7"
  }
 },
 "nbformat": 4,
 "nbformat_minor": 5
}
