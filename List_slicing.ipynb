{
 "cells": [
  {
   "cell_type": "markdown",
   "id": "ac24044b-0077-4a43-94e7-fd064fff54fb",
   "metadata": {},
   "source": [
    "                                 Slicing"
   ]
  },
  {
   "cell_type": "code",
   "execution_count": 1,
   "id": "e3ff7e4a-2641-4b76-82d5-f1cdda80e8e7",
   "metadata": {},
   "outputs": [
    {
     "data": {
      "text/plain": [
       "[10, 20, 30, 35, 40, 3, 10, 15, 20, 30, 40, 2.3, 1]"
      ]
     },
     "execution_count": 1,
     "metadata": {},
     "output_type": "execute_result"
    }
   ],
   "source": [
    "l=[10,20,30,35,40,3,10,15,20,30,40,2.3,1]\n",
    "l"
   ]
  },
  {
   "cell_type": "code",
   "execution_count": 3,
   "id": "30caf018-028d-4742-9c71-9a7ea8211ebd",
   "metadata": {},
   "outputs": [
    {
     "data": {
      "text/plain": [
       "[10, 20, 30, 35, 40, 3, 10, 15, 20, 30, 40, 2.3, 1]"
      ]
     },
     "execution_count": 3,
     "metadata": {},
     "output_type": "execute_result"
    }
   ],
   "source": [
    "l[:]"
   ]
  },
  {
   "cell_type": "code",
   "execution_count": 5,
   "id": "b1c53739-bd68-4906-a852-d7de3e170a98",
   "metadata": {},
   "outputs": [
    {
     "data": {
      "text/plain": [
       "[10, 20, 30, 35, 40, 3, 10, 15]"
      ]
     },
     "execution_count": 5,
     "metadata": {},
     "output_type": "execute_result"
    }
   ],
   "source": [
    "l[0:8]"
   ]
  },
  {
   "cell_type": "code",
   "execution_count": 7,
   "id": "46905d64-634a-4358-87c1-9e58e4ee1c29",
   "metadata": {},
   "outputs": [
    {
     "data": {
      "text/plain": [
       "[35, 40, 3, 10, 15, 20, 30, 40, 2.3, 1]"
      ]
     },
     "execution_count": 7,
     "metadata": {},
     "output_type": "execute_result"
    }
   ],
   "source": [
    "l[3:]"
   ]
  },
  {
   "cell_type": "code",
   "execution_count": 9,
   "id": "4d660c01-d6d4-4989-8678-23a2064ba406",
   "metadata": {},
   "outputs": [
    {
     "data": {
      "text/plain": [
       "[10, 20, 30, 35, 40, 3, 10]"
      ]
     },
     "execution_count": 9,
     "metadata": {},
     "output_type": "execute_result"
    }
   ],
   "source": [
    "l[:7]"
   ]
  },
  {
   "cell_type": "code",
   "execution_count": 11,
   "id": "dc12de1a-d2a1-4805-ad0d-1ec043c260d8",
   "metadata": {},
   "outputs": [
    {
     "data": {
      "text/plain": [
       "[10, 3, 40]"
      ]
     },
     "execution_count": 11,
     "metadata": {},
     "output_type": "execute_result"
    }
   ],
   "source": [
    "l[0:20:5]"
   ]
  },
  {
   "cell_type": "code",
   "execution_count": 13,
   "id": "8698ed51-d6c0-48b3-8e44-54e5830eb292",
   "metadata": {},
   "outputs": [
    {
     "data": {
      "text/plain": [
       "[1, 2.3, 40, 30, 20, 15, 10, 3, 40, 35, 30, 20, 10]"
      ]
     },
     "execution_count": 13,
     "metadata": {},
     "output_type": "execute_result"
    }
   ],
   "source": [
    "l[::-1]"
   ]
  },
  {
   "cell_type": "code",
   "execution_count": 15,
   "id": "50949588-a276-4920-b546-facea9b1499a",
   "metadata": {},
   "outputs": [
    {
     "data": {
      "text/plain": [
       "[35, 10, 30]"
      ]
     },
     "execution_count": 15,
     "metadata": {},
     "output_type": "execute_result"
    }
   ],
   "source": [
    "l[3:10:3]"
   ]
  },
  {
   "cell_type": "code",
   "execution_count": null,
   "id": "bbc1263c-2d4d-4840-85ed-7a4dac5001f6",
   "metadata": {},
   "outputs": [],
   "source": []
  },
  {
   "cell_type": "code",
   "execution_count": 17,
   "id": "b1a6fce6-c3be-42f9-8d8a-7018eb2c72fb",
   "metadata": {},
   "outputs": [
    {
     "data": {
      "text/plain": [
       "[1, 30, 10, 35, 10]"
      ]
     },
     "execution_count": 17,
     "metadata": {},
     "output_type": "execute_result"
    }
   ],
   "source": [
    "l[::-3]"
   ]
  },
  {
   "cell_type": "code",
   "execution_count": 19,
   "id": "8741fe7b-086f-4c68-8322-1c2ef6375ddb",
   "metadata": {},
   "outputs": [
    {
     "data": {
      "text/plain": [
       "[1, 40, 20, 10, 40, 30, 10]"
      ]
     },
     "execution_count": 19,
     "metadata": {},
     "output_type": "execute_result"
    }
   ],
   "source": [
    "l[::-2]"
   ]
  },
  {
   "cell_type": "code",
   "execution_count": 21,
   "id": "926dd23a-88a7-498c-936e-2923fa0c800f",
   "metadata": {},
   "outputs": [],
   "source": [
    "l1=[40,30,20,15,10,2.3,1]"
   ]
  },
  {
   "cell_type": "code",
   "execution_count": 25,
   "id": "6b492804-f0e0-4f8b-a5c6-51772220a126",
   "metadata": {},
   "outputs": [
    {
     "data": {
      "text/plain": [
       "[40, 30, 20, 15, 10, 2.3, 'it']"
      ]
     },
     "execution_count": 25,
     "metadata": {},
     "output_type": "execute_result"
    }
   ],
   "source": [
    "l1[-1]='it'  #LIST is MUTABLE/HASHABLE.....i.e we can change value\n",
    "l1"
   ]
  },
  {
   "cell_type": "code",
   "execution_count": 27,
   "id": "33fb0a0d-aac4-4ebc-b75f-e214699bb57d",
   "metadata": {},
   "outputs": [
    {
     "data": {
      "text/plain": [
       "'i'"
      ]
     },
     "execution_count": 27,
     "metadata": {},
     "output_type": "execute_result"
    }
   ],
   "source": [
    "l1[-1][0]     #nested slicing"
   ]
  },
  {
   "cell_type": "code",
   "execution_count": 29,
   "id": "55f913f0-69ac-4168-acbc-cec35f3abc30",
   "metadata": {},
   "outputs": [
    {
     "name": "stdout",
     "output_type": "stream",
     "text": [
      "i\n",
      "t\n"
     ]
    }
   ],
   "source": [
    "print(l1[-1][0])\n",
    "print(l1[-1][1])"
   ]
  },
  {
   "cell_type": "code",
   "execution_count": 33,
   "id": "95cb7fe4-2bda-499d-ad77-600e1741c048",
   "metadata": {},
   "outputs": [
    {
     "data": {
      "text/plain": [
       "[100, 4, 3]"
      ]
     },
     "execution_count": 33,
     "metadata": {},
     "output_type": "execute_result"
    }
   ],
   "source": [
    "l3=[100,4,3]\n",
    "l3"
   ]
  },
  {
   "cell_type": "code",
   "execution_count": 35,
   "id": "a3d65985-4008-438b-b4b5-2d942b85b3c3",
   "metadata": {},
   "outputs": [
    {
     "data": {
      "text/plain": [
       "[40, 30, 20, 15, 10, 2.3, 'it']"
      ]
     },
     "execution_count": 35,
     "metadata": {},
     "output_type": "execute_result"
    }
   ],
   "source": [
    "l1"
   ]
  },
  {
   "cell_type": "code",
   "execution_count": 37,
   "id": "71b240fb-0785-43ee-8ed7-fabeff056933",
   "metadata": {},
   "outputs": [
    {
     "data": {
      "text/plain": [
       "[1, 2, 3]"
      ]
     },
     "execution_count": 37,
     "metadata": {},
     "output_type": "execute_result"
    }
   ],
   "source": [
    "l2=[1,2,3]\n",
    "l2"
   ]
  },
  {
   "cell_type": "code",
   "execution_count": 39,
   "id": "47f84709-10b4-4cba-aea4-d28a115b02a9",
   "metadata": {},
   "outputs": [
    {
     "data": {
      "text/plain": [
       "[1, 2, 3, 100, 4, 3]"
      ]
     },
     "execution_count": 39,
     "metadata": {},
     "output_type": "execute_result"
    }
   ],
   "source": [
    "l4=l2+l3             #LIST Concat\n",
    "l4"
   ]
  },
  {
   "cell_type": "code",
   "execution_count": 59,
   "id": "8ac5e47a-9448-48c1-b172-cf6509281301",
   "metadata": {},
   "outputs": [
    {
     "name": "stdout",
     "output_type": "stream",
     "text": [
      "1\n",
      "2\n",
      "3\n",
      "100\n",
      "4\n",
      "3\n"
     ]
    }
   ],
   "source": [
    "for i in l4:\n",
    "    print(i)"
   ]
  },
  {
   "cell_type": "code",
   "execution_count": 63,
   "id": "414f8ef6-3580-4424-895b-0973171fca45",
   "metadata": {},
   "outputs": [
    {
     "name": "stdout",
     "output_type": "stream",
     "text": [
      "(0, 1)\n",
      "(1, 2)\n",
      "(2, 3)\n",
      "(3, 100)\n",
      "(4, 4)\n",
      "(5, 3)\n"
     ]
    }
   ],
   "source": [
    " for i in enumerate(l4):\n",
    "     print(i)\n",
    "    "
   ]
  },
  {
   "cell_type": "code",
   "execution_count": 81,
   "id": "9ebdc0fc-dc2f-479c-9f83-764993872bc6",
   "metadata": {},
   "outputs": [
    {
     "name": "stdout",
     "output_type": "stream",
     "text": [
      "index is0...value is1\n",
      "index is1...value is2\n",
      "index is2...value is3\n",
      "index is3...value is100\n",
      "index is4...value is4\n",
      "index is5...value is3\n"
     ]
    }
   ],
   "source": [
    "for index,value in enumerate(l4):\n",
    "    print(\"index is{}...value is{}\".format(index,value))"
   ]
  },
  {
   "cell_type": "code",
   "execution_count": 69,
   "id": "d83f8789-782f-4da9-ac3f-42ba6ee10cdd",
   "metadata": {},
   "outputs": [
    {
     "data": {
      "text/plain": [
       "[100, 4, 3]"
      ]
     },
     "execution_count": 69,
     "metadata": {},
     "output_type": "execute_result"
    }
   ],
   "source": [
    "l3"
   ]
  },
  {
   "cell_type": "code",
   "execution_count": 71,
   "id": "89008cbf-0e51-4bad-9aec-66ebb9592625",
   "metadata": {},
   "outputs": [
    {
     "data": {
      "text/plain": [
       "True"
      ]
     },
     "execution_count": 71,
     "metadata": {},
     "output_type": "execute_result"
    }
   ],
   "source": [
    "all(l3)"
   ]
  },
  {
   "cell_type": "code",
   "execution_count": 75,
   "id": "e0d5ef94-caae-447e-9487-98fa0d2dc331",
   "metadata": {},
   "outputs": [
    {
     "data": {
      "text/plain": [
       "[100, 4, 3, 0]"
      ]
     },
     "execution_count": 75,
     "metadata": {},
     "output_type": "execute_result"
    }
   ],
   "source": [
    "l3.append(0)\n",
    "l3"
   ]
  },
  {
   "cell_type": "code",
   "execution_count": 77,
   "id": "e887e709-6dfe-43ba-b060-9c2be897e429",
   "metadata": {},
   "outputs": [
    {
     "data": {
      "text/plain": [
       "False"
      ]
     },
     "execution_count": 77,
     "metadata": {},
     "output_type": "execute_result"
    }
   ],
   "source": [
    "all(l3)        #without 0's-------True\n",
    "               # at least one 0 ----False"
   ]
  },
  {
   "cell_type": "code",
   "execution_count": 79,
   "id": "550ec1ce-76a3-4d22-80af-13d6231b03fd",
   "metadata": {},
   "outputs": [
    {
     "data": {
      "text/plain": [
       "True"
      ]
     },
     "execution_count": 79,
     "metadata": {},
     "output_type": "execute_result"
    }
   ],
   "source": [
    "any(l3)       #any 0--------True\n",
    "              #without 0;s----False"
   ]
  },
  {
   "cell_type": "code",
   "execution_count": null,
   "id": "5c5e87c0-27a8-4d8d-9762-b0bba6c592da",
   "metadata": {},
   "outputs": [],
   "source": []
  },
  {
   "cell_type": "code",
   "execution_count": null,
   "id": "c56b2e9e-8eef-4d52-a626-ab227f1d54af",
   "metadata": {},
   "outputs": [],
   "source": []
  },
  {
   "cell_type": "code",
   "execution_count": null,
   "id": "c087302f-06a5-46ae-8dcc-f74d9d9a2b48",
   "metadata": {},
   "outputs": [],
   "source": []
  },
  {
   "cell_type": "code",
   "execution_count": null,
   "id": "cb010d9a-6c71-4a75-bd1d-c6ef4ab145de",
   "metadata": {},
   "outputs": [],
   "source": []
  },
  {
   "cell_type": "code",
   "execution_count": null,
   "id": "e5075ace-4616-4348-920c-3665fca319ca",
   "metadata": {},
   "outputs": [],
   "source": []
  },
  {
   "cell_type": "code",
   "execution_count": null,
   "id": "4d547f8b-e4fc-4dae-972c-d7f9365f9b6d",
   "metadata": {},
   "outputs": [],
   "source": []
  },
  {
   "cell_type": "code",
   "execution_count": null,
   "id": "5ecf5fe5-7009-4008-9270-025f19cb838a",
   "metadata": {},
   "outputs": [],
   "source": []
  },
  {
   "cell_type": "code",
   "execution_count": null,
   "id": "27b44bc5-bfe9-448b-bbe8-df61dddf6626",
   "metadata": {},
   "outputs": [],
   "source": []
  }
 ],
 "metadata": {
  "kernelspec": {
   "display_name": "Python [conda env:base] *",
   "language": "python",
   "name": "conda-base-py"
  },
  "language_info": {
   "codemirror_mode": {
    "name": "ipython",
    "version": 3
   },
   "file_extension": ".py",
   "mimetype": "text/x-python",
   "name": "python",
   "nbconvert_exporter": "python",
   "pygments_lexer": "ipython3",
   "version": "3.12.7"
  }
 },
 "nbformat": 4,
 "nbformat_minor": 5
}
