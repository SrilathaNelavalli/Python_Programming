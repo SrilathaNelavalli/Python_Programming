{
 "cells": [
  {
   "cell_type": "code",
   "execution_count": 5,
   "id": "5e5ed8a6-a838-4e15-b1e9-548bef2ca5d1",
   "metadata": {},
   "outputs": [
    {
     "name": "stdout",
     "output_type": "stream",
     "text": [
      "2.5\n",
      "2\n"
     ]
    }
   ],
   "source": [
    "x=5\n",
    "y=2\n",
    "print(x/y)\n",
    "print(x//y)"
   ]
  },
  {
   "cell_type": "markdown",
   "id": "e199319f-c228-4f65-9630-2348784d19e9",
   "metadata": {},
   "source": [
    "                                SET"
   ]
  },
  {
   "cell_type": "code",
   "execution_count": 7,
   "id": "fda41233-ce7b-4cd1-862d-1bce1ce13ad6",
   "metadata": {},
   "outputs": [
    {
     "data": {
      "text/plain": [
       "{}"
      ]
     },
     "execution_count": 7,
     "metadata": {},
     "output_type": "execute_result"
    }
   ],
   "source": [
    "s={}\n",
    "s"
   ]
  },
  {
   "cell_type": "code",
   "execution_count": 9,
   "id": "bbe6e916-f59b-48c4-bd7c-7bfa879bfc0a",
   "metadata": {},
   "outputs": [
    {
     "data": {
      "text/plain": [
       "dict"
      ]
     },
     "execution_count": 9,
     "metadata": {},
     "output_type": "execute_result"
    }
   ],
   "source": [
    "type(s)"
   ]
  },
  {
   "cell_type": "code",
   "execution_count": 1,
   "id": "b01a231b-6af6-4133-bc3d-ca1f51d3b1a1",
   "metadata": {},
   "outputs": [
    {
     "data": {
      "text/plain": [
       "set"
      ]
     },
     "execution_count": 1,
     "metadata": {},
     "output_type": "execute_result"
    }
   ],
   "source": [
    "s1=set()                   #Empty tuple\n",
    "type(s1)"
   ]
  },
  {
   "cell_type": "code",
   "execution_count": 3,
   "id": "042e1cbf-d168-4066-95bd-c303005c7a0b",
   "metadata": {},
   "outputs": [
    {
     "data": {
      "text/plain": [
       "{3, 20, 45, 100}"
      ]
     },
     "execution_count": 3,
     "metadata": {},
     "output_type": "execute_result"
    }
   ],
   "source": [
    "s2={20,100,3,45}       #if we define similar data types set will give order set\n",
    "s2"
   ]
  },
  {
   "cell_type": "code",
   "execution_count": 5,
   "id": "f85af920-591a-4cc9-bfcf-7e5e53bee670",
   "metadata": {},
   "outputs": [
    {
     "data": {
      "text/plain": [
       "{'1', 'c', 'e', 'f', 'z'}"
      ]
     },
     "execution_count": 5,
     "metadata": {},
     "output_type": "execute_result"
    }
   ],
   "source": [
    "s3={'z','1','c','e','f'}\n",
    "s3"
   ]
  },
  {
   "cell_type": "code",
   "execution_count": 7,
   "id": "2a286ca5-3ead-4c83-95e8-a9e27c48d9a2",
   "metadata": {},
   "outputs": [
    {
     "ename": "TypeError",
     "evalue": "unhashable type: 'list'",
     "output_type": "error",
     "traceback": [
      "\u001b[1;31m---------------------------------------------------------------------------\u001b[0m",
      "\u001b[1;31mTypeError\u001b[0m                                 Traceback (most recent call last)",
      "Cell \u001b[1;32mIn[7], line 1\u001b[0m\n\u001b[1;32m----> 1\u001b[0m s4\u001b[38;5;241m=\u001b[39m{\u001b[38;5;241m1\u001b[39m,\u001b[38;5;241m2.3\u001b[39m,\u001b[38;5;124m'\u001b[39m\u001b[38;5;124mnit\u001b[39m\u001b[38;5;124m'\u001b[39m,\u001b[38;5;241m1\u001b[39m\u001b[38;5;241m+\u001b[39m\u001b[38;5;241m2\u001b[39mj,[\u001b[38;5;241m1\u001b[39m,\u001b[38;5;241m2\u001b[39m,\u001b[38;5;241m3\u001b[39m],(\u001b[38;5;241m4\u001b[39m,\u001b[38;5;241m5\u001b[39m,\u001b[38;5;241m6\u001b[39m),\u001b[38;5;28;01mTrue\u001b[39;00m}\n\u001b[0;32m      2\u001b[0m s4\n",
      "\u001b[1;31mTypeError\u001b[0m: unhashable type: 'list'"
     ]
    }
   ],
   "source": [
    "s4={1,2.3,'nit',1+2j,[1,2,3],(4,5,6),True}\n",
    "s4"
   ]
  },
  {
   "cell_type": "code",
   "execution_count": 9,
   "id": "378a95aa-c2b2-4229-b0a8-2d30cfec9ccc",
   "metadata": {},
   "outputs": [
    {
     "data": {
      "text/plain": [
       "{(2+3j), 2, 3.4, False, 'nit'}"
      ]
     },
     "execution_count": 9,
     "metadata": {},
     "output_type": "execute_result"
    }
   ],
   "source": [
    "s5={2,3.4,'nit',2+3j,False}       #not similar values then set doesn't be orderd\n",
    "s5"
   ]
  },
  {
   "cell_type": "code",
   "execution_count": 11,
   "id": "861bf62d-dfdc-4534-b21c-8ece2935f4dc",
   "metadata": {},
   "outputs": [
    {
     "name": "stdout",
     "output_type": "stream",
     "text": [
      "set()\n",
      "{45, 3, 100, 20}\n",
      "{'1', 'z', 'f', 'e', 'c'}\n",
      "{False, 'nit', 2, 3.4, (2+3j)}\n"
     ]
    }
   ],
   "source": [
    "print(s1)\n",
    "print(s2)\n",
    "print(s3)\n",
    "print(s5)"
   ]
  },
  {
   "cell_type": "code",
   "execution_count": 13,
   "id": "c8136d7e-aea7-42fb-9f19-0078e8d61b9c",
   "metadata": {},
   "outputs": [
    {
     "data": {
      "text/plain": [
       "{3, 20, 45, 100}"
      ]
     },
     "execution_count": 13,
     "metadata": {},
     "output_type": "execute_result"
    }
   ],
   "source": [
    "s2"
   ]
  },
  {
   "cell_type": "code",
   "execution_count": 15,
   "id": "29841ffe-bac7-4801-b18d-2a789694206d",
   "metadata": {},
   "outputs": [],
   "source": [
    "s2.add(30)      #add() wiil add  the elemnt to set\n"
   ]
  },
  {
   "cell_type": "code",
   "execution_count": 17,
   "id": "381a8162-3a00-4b8e-a3ee-15543f6a5781",
   "metadata": {},
   "outputs": [
    {
     "data": {
      "text/plain": [
       "{3, 20, 30, 45, 100}"
      ]
     },
     "execution_count": 17,
     "metadata": {},
     "output_type": "execute_result"
    }
   ],
   "source": [
    "s2"
   ]
  },
  {
   "cell_type": "code",
   "execution_count": 19,
   "id": "552681e8-439b-4f14-ae59-389e17090054",
   "metadata": {},
   "outputs": [
    {
     "data": {
      "text/plain": [
       "{3, 20, 30, 45, 100, 200}"
      ]
     },
     "execution_count": 19,
     "metadata": {},
     "output_type": "execute_result"
    }
   ],
   "source": [
    "s2.add(200)\n",
    "s2"
   ]
  },
  {
   "cell_type": "code",
   "execution_count": 21,
   "id": "f5729182-5c66-4696-838e-e40c3d580a01",
   "metadata": {},
   "outputs": [
    {
     "ename": "TypeError",
     "evalue": "'set' object is not subscriptable",
     "output_type": "error",
     "traceback": [
      "\u001b[1;31m---------------------------------------------------------------------------\u001b[0m",
      "\u001b[1;31mTypeError\u001b[0m                                 Traceback (most recent call last)",
      "Cell \u001b[1;32mIn[21], line 1\u001b[0m\n\u001b[1;32m----> 1\u001b[0m s2[:]\n",
      "\u001b[1;31mTypeError\u001b[0m: 'set' object is not subscriptable"
     ]
    }
   ],
   "source": [
    "s2[:]                 #set doesn't allow indexing and slicing "
   ]
  },
  {
   "cell_type": "code",
   "execution_count": 23,
   "id": "c001ca72-22d4-4797-af56-5271dbf45003",
   "metadata": {},
   "outputs": [
    {
     "ename": "TypeError",
     "evalue": "'set' object is not subscriptable",
     "output_type": "error",
     "traceback": [
      "\u001b[1;31m---------------------------------------------------------------------------\u001b[0m",
      "\u001b[1;31mTypeError\u001b[0m                                 Traceback (most recent call last)",
      "Cell \u001b[1;32mIn[23], line 1\u001b[0m\n\u001b[1;32m----> 1\u001b[0m s2[\u001b[38;5;241m1\u001b[39m:\u001b[38;5;241m5\u001b[39m]\n",
      "\u001b[1;31mTypeError\u001b[0m: 'set' object is not subscriptable"
     ]
    }
   ],
   "source": [
    "s2[1:5]"
   ]
  },
  {
   "cell_type": "code",
   "execution_count": 25,
   "id": "3e7fa399-fc9c-459b-b477-8dc1e286ac7c",
   "metadata": {},
   "outputs": [
    {
     "data": {
      "text/plain": [
       "{(2+3j), 2, 3.4, False, 'nit'}"
      ]
     },
     "execution_count": 25,
     "metadata": {},
     "output_type": "execute_result"
    }
   ],
   "source": [
    "s5"
   ]
  },
  {
   "cell_type": "code",
   "execution_count": 27,
   "id": "991e8e4e-1b49-414f-9c89-1830f503419d",
   "metadata": {},
   "outputs": [],
   "source": [
    "s4=s5.copy()"
   ]
  },
  {
   "cell_type": "code",
   "execution_count": 29,
   "id": "b0d1c54a-3f5f-4aa6-a754-2587b8edeef0",
   "metadata": {},
   "outputs": [
    {
     "data": {
      "text/plain": [
       "{(2+3j), 2, 3.4, False, 'nit'}"
      ]
     },
     "execution_count": 29,
     "metadata": {},
     "output_type": "execute_result"
    }
   ],
   "source": [
    "s4"
   ]
  },
  {
   "cell_type": "code",
   "execution_count": 31,
   "id": "0a8cc4e1-74c7-44b9-81f8-54874f58893d",
   "metadata": {},
   "outputs": [],
   "source": [
    "s4.add(2)              #duplicate values(2 is already there in set) in set not allowed "
   ]
  },
  {
   "cell_type": "code",
   "execution_count": 33,
   "id": "d04e7621-156b-4c08-aefd-11855140ffc9",
   "metadata": {},
   "outputs": [
    {
     "data": {
      "text/plain": [
       "{(2+3j), 2, 3.4, False, 'nit'}"
      ]
     },
     "execution_count": 33,
     "metadata": {},
     "output_type": "execute_result"
    }
   ],
   "source": [
    "s4"
   ]
  },
  {
   "cell_type": "code",
   "execution_count": 35,
   "id": "7beccfa3-52e3-4df0-a215-d4c96d618939",
   "metadata": {},
   "outputs": [
    {
     "data": {
      "text/plain": [
       "set()"
      ]
     },
     "execution_count": 35,
     "metadata": {},
     "output_type": "execute_result"
    }
   ],
   "source": [
    "s5.clear()\n",
    "s5"
   ]
  },
  {
   "cell_type": "code",
   "execution_count": 37,
   "id": "119b3c4b-11c7-4433-93d5-e3275feb0878",
   "metadata": {},
   "outputs": [
    {
     "data": {
      "text/plain": [
       "{(2+3j), 2, 3.4, False, 'nit'}"
      ]
     },
     "execution_count": 37,
     "metadata": {},
     "output_type": "execute_result"
    }
   ],
   "source": [
    "s4"
   ]
  },
  {
   "cell_type": "code",
   "execution_count": 39,
   "id": "5648792b-a491-43ae-a3d1-6ca8c3b3428f",
   "metadata": {},
   "outputs": [
    {
     "data": {
      "text/plain": [
       "{2, 3.4, False, 'nit'}"
      ]
     },
     "execution_count": 39,
     "metadata": {},
     "output_type": "execute_result"
    }
   ],
   "source": [
    "s4.remove(2+3j)\n",
    "s4"
   ]
  },
  {
   "cell_type": "code",
   "execution_count": 41,
   "id": "5de3db82-7c16-4779-9baa-3120b36499a9",
   "metadata": {},
   "outputs": [
    {
     "ename": "TypeError",
     "evalue": "set.remove() takes exactly one argument (2 given)",
     "output_type": "error",
     "traceback": [
      "\u001b[1;31m---------------------------------------------------------------------------\u001b[0m",
      "\u001b[1;31mTypeError\u001b[0m                                 Traceback (most recent call last)",
      "Cell \u001b[1;32mIn[41], line 1\u001b[0m\n\u001b[1;32m----> 1\u001b[0m s4\u001b[38;5;241m.\u001b[39mremove(\u001b[38;5;28;01mFalse\u001b[39;00m,\u001b[38;5;124m'\u001b[39m\u001b[38;5;124mnit\u001b[39m\u001b[38;5;124m'\u001b[39m)\n",
      "\u001b[1;31mTypeError\u001b[0m: set.remove() takes exactly one argument (2 given)"
     ]
    }
   ],
   "source": [
    "s4.remove(False,'nit')"
   ]
  },
  {
   "cell_type": "code",
   "execution_count": 43,
   "id": "78626d83-2c97-4f2c-913e-181c1baec651",
   "metadata": {},
   "outputs": [
    {
     "data": {
      "text/plain": [
       "{'1', 'c', 'e', 'f', 'z'}"
      ]
     },
     "execution_count": 43,
     "metadata": {},
     "output_type": "execute_result"
    }
   ],
   "source": [
    "s3"
   ]
  },
  {
   "cell_type": "code",
   "execution_count": 45,
   "id": "3ffd23a4-09d0-4322-90db-df3ba08731da",
   "metadata": {},
   "outputs": [],
   "source": [
    "s3.discard('m')    #discard() will never through a error,if the value\n",
    "                    #is not in set also\n",
    "                    #if the value is a member in set then it will remove the value"
   ]
  },
  {
   "cell_type": "code",
   "execution_count": 47,
   "id": "be2f770b-6bb4-4ab6-a2ac-4bdd6c6f8e2b",
   "metadata": {},
   "outputs": [
    {
     "ename": "KeyError",
     "evalue": "'m'",
     "output_type": "error",
     "traceback": [
      "\u001b[1;31m---------------------------------------------------------------------------\u001b[0m",
      "\u001b[1;31mKeyError\u001b[0m                                  Traceback (most recent call last)",
      "Cell \u001b[1;32mIn[47], line 1\u001b[0m\n\u001b[1;32m----> 1\u001b[0m s3\u001b[38;5;241m.\u001b[39mremove(\u001b[38;5;124m'\u001b[39m\u001b[38;5;124mm\u001b[39m\u001b[38;5;124m'\u001b[39m)\n",
      "\u001b[1;31mKeyError\u001b[0m: 'm'"
     ]
    }
   ],
   "source": [
    "s3.remove('m')     #remove() will through an error,provided if the value \n",
    "                   #is not in set\n"
   ]
  },
  {
   "cell_type": "code",
   "execution_count": 49,
   "id": "57ccd33d-d1bf-49fa-b98a-d294a48df6ff",
   "metadata": {},
   "outputs": [
    {
     "data": {
      "text/plain": [
       "{'1', 'c', 'e', 'f', 'z'}"
      ]
     },
     "execution_count": 49,
     "metadata": {},
     "output_type": "execute_result"
    }
   ],
   "source": [
    "s3"
   ]
  },
  {
   "cell_type": "code",
   "execution_count": 51,
   "id": "112f196e-fba5-4630-8ef9-57dfd5138a88",
   "metadata": {},
   "outputs": [
    {
     "data": {
      "text/plain": [
       "'1'"
      ]
     },
     "execution_count": 51,
     "metadata": {},
     "output_type": "execute_result"
    }
   ],
   "source": [
    "s3.pop()              #pop() remove value randomly"
   ]
  },
  {
   "cell_type": "code",
   "execution_count": 53,
   "id": "c07caa9d-763a-4828-bbfc-0910d5a4bd1c",
   "metadata": {},
   "outputs": [
    {
     "data": {
      "text/plain": [
       "{3, 20, 30, 45, 100, 200}"
      ]
     },
     "execution_count": 53,
     "metadata": {},
     "output_type": "execute_result"
    }
   ],
   "source": [
    "s2"
   ]
  },
  {
   "cell_type": "code",
   "execution_count": 55,
   "id": "1229338c-b58b-4720-86a4-5e4711974bc8",
   "metadata": {},
   "outputs": [
    {
     "ename": "TypeError",
     "evalue": "set.pop() takes no arguments (1 given)",
     "output_type": "error",
     "traceback": [
      "\u001b[1;31m---------------------------------------------------------------------------\u001b[0m",
      "\u001b[1;31mTypeError\u001b[0m                                 Traceback (most recent call last)",
      "Cell \u001b[1;32mIn[55], line 1\u001b[0m\n\u001b[1;32m----> 1\u001b[0m s2\u001b[38;5;241m.\u001b[39mpop(\u001b[38;5;241m3\u001b[39m)\n",
      "\u001b[1;31mTypeError\u001b[0m: set.pop() takes no arguments (1 given)"
     ]
    }
   ],
   "source": [
    "s2.pop(3)         "
   ]
  },
  {
   "cell_type": "code",
   "execution_count": 59,
   "id": "d843ccbc-bd6b-4fda-a080-3a281d6c58d6",
   "metadata": {},
   "outputs": [
    {
     "name": "stdout",
     "output_type": "stream",
     "text": [
      "3\n",
      "100\n",
      "200\n",
      "45\n",
      "20\n",
      "30\n"
     ]
    }
   ],
   "source": [
    "for  i in s2:\n",
    "    print(i)"
   ]
  },
  {
   "cell_type": "code",
   "execution_count": 61,
   "id": "39672eb9-f8f5-4db4-a179-7e99e9431c14",
   "metadata": {},
   "outputs": [
    {
     "name": "stdout",
     "output_type": "stream",
     "text": [
      "(0, 3)\n",
      "(1, 100)\n",
      "(2, 200)\n",
      "(3, 45)\n",
      "(4, 20)\n",
      "(5, 30)\n"
     ]
    }
   ],
   "source": [
    "for i in enumerate(s2):\n",
    "    print(i)"
   ]
  },
  {
   "cell_type": "code",
   "execution_count": 63,
   "id": "773a246e-804d-4ed7-82a9-566f255cfe4a",
   "metadata": {},
   "outputs": [
    {
     "data": {
      "text/plain": [
       "{3, 20, 30, 45, 100, 200}"
      ]
     },
     "execution_count": 63,
     "metadata": {},
     "output_type": "execute_result"
    }
   ],
   "source": [
    "s2"
   ]
  },
  {
   "cell_type": "code",
   "execution_count": 65,
   "id": "b288cbd8-403b-442d-b142-ee70751c881b",
   "metadata": {},
   "outputs": [
    {
     "data": {
      "text/plain": [
       "False"
      ]
     },
     "execution_count": 65,
     "metadata": {},
     "output_type": "execute_result"
    }
   ],
   "source": [
    "5 in s2                 #5 is not a member in s2"
   ]
  },
  {
   "cell_type": "code",
   "execution_count": 67,
   "id": "d5b9ec53-35d0-49aa-99ac-a78dbe8a61dc",
   "metadata": {},
   "outputs": [
    {
     "data": {
      "text/plain": [
       "True"
      ]
     },
     "execution_count": 67,
     "metadata": {},
     "output_type": "execute_result"
    }
   ],
   "source": [
    "45 in s2"
   ]
  },
  {
   "cell_type": "code",
   "execution_count": 75,
   "id": "c4795688-1771-485a-95e5-bcb46fabfeca",
   "metadata": {},
   "outputs": [
    {
     "data": {
      "text/plain": [
       "{100, 20, 200, 3, 30, 45, 'c', 'e', 'f', 'z'}"
      ]
     },
     "execution_count": 75,
     "metadata": {},
     "output_type": "execute_result"
    }
   ],
   "source": [
    "s2"
   ]
  },
  {
   "cell_type": "code",
   "execution_count": 77,
   "id": "179157ff-a829-4964-a765-13e8abdf310c",
   "metadata": {},
   "outputs": [
    {
     "data": {
      "text/plain": [
       "{'c', 'e', 'f', 'z'}"
      ]
     },
     "execution_count": 77,
     "metadata": {},
     "output_type": "execute_result"
    }
   ],
   "source": [
    "s3"
   ]
  },
  {
   "cell_type": "code",
   "execution_count": 83,
   "id": "d0aa9268-3cc2-48ee-936b-bf7a89b29c20",
   "metadata": {},
   "outputs": [],
   "source": [
    "s2.update(s3)                        #extending the set"
   ]
  },
  {
   "cell_type": "code",
   "execution_count": 87,
   "id": "46cfac9b-483b-4756-bf3f-aaaf381c7efe",
   "metadata": {},
   "outputs": [],
   "source": [
    "s6={1,2,3}"
   ]
  },
  {
   "cell_type": "code",
   "execution_count": 89,
   "id": "06e389aa-58f1-4d78-9221-544b1c6a2dc4",
   "metadata": {},
   "outputs": [],
   "source": [
    "del s6"
   ]
  },
  {
   "cell_type": "code",
   "execution_count": 91,
   "id": "85c87007-621e-4ab8-9338-845aa215e620",
   "metadata": {},
   "outputs": [
    {
     "ename": "NameError",
     "evalue": "name 's6' is not defined",
     "output_type": "error",
     "traceback": [
      "\u001b[1;31m---------------------------------------------------------------------------\u001b[0m",
      "\u001b[1;31mNameError\u001b[0m                                 Traceback (most recent call last)",
      "Cell \u001b[1;32mIn[91], line 1\u001b[0m\n\u001b[1;32m----> 1\u001b[0m s6\n",
      "\u001b[1;31mNameError\u001b[0m: name 's6' is not defined"
     ]
    }
   ],
   "source": [
    "s6"
   ]
  },
  {
   "cell_type": "markdown",
   "id": "a8370713-ae9e-42e5-aaa9-0b3b1f1bdb1c",
   "metadata": {},
   "source": [
    "#                   -------------SET OPERATIONS------------\n",
    "#                       1. UNION\n",
    "#                       2.INTERSECTION\n",
    "#                       3.DIFFERENCE\n",
    "#                       4.SYMMETRIC DIFFERENCE"
   ]
  },
  {
   "cell_type": "code",
   "execution_count": 95,
   "id": "611fe13d-9016-439c-8929-af9a8d6ddf0c",
   "metadata": {},
   "outputs": [],
   "source": [
    "s6={1,2,3,4,5}\n",
    "s7={4,5,6,7,8}\n",
    "s8={8,9,10}"
   ]
  },
  {
   "cell_type": "code",
   "execution_count": 97,
   "id": "636404df-352f-4a8b-863a-359b46425333",
   "metadata": {},
   "outputs": [
    {
     "data": {
      "text/plain": [
       "{1, 2, 3, 4, 5, 6, 7, 8}"
      ]
     },
     "execution_count": 97,
     "metadata": {},
     "output_type": "execute_result"
    }
   ],
   "source": [
    "s6.union(s7)         #all elements will come without duplicates"
   ]
  },
  {
   "cell_type": "code",
   "execution_count": 99,
   "id": "f1a7869d-48dd-440f-aa96-04e1b7cdddaa",
   "metadata": {},
   "outputs": [
    {
     "data": {
      "text/plain": [
       "{1, 2, 3, 4, 5, 6, 7, 8, 9, 10}"
      ]
     },
     "execution_count": 99,
     "metadata": {},
     "output_type": "execute_result"
    }
   ],
   "source": [
    "s6.union(s7,s8)         #we can pass 2 Arguments"
   ]
  },
  {
   "cell_type": "code",
   "execution_count": 101,
   "id": "0aafa334-f128-4d9d-81f0-8e7f3418d342",
   "metadata": {},
   "outputs": [
    {
     "data": {
      "text/plain": [
       "{1, 2, 3, 4, 5, 6, 7, 8}"
      ]
     },
     "execution_count": 101,
     "metadata": {},
     "output_type": "execute_result"
    }
   ],
   "source": [
    "s6 | s7"
   ]
  },
  {
   "cell_type": "code",
   "execution_count": 103,
   "id": "3e5dcf57-3122-4e48-a9e9-be05bcb50d0b",
   "metadata": {},
   "outputs": [
    {
     "data": {
      "text/plain": [
       "{1, 2, 3, 4, 5, 6, 7, 8, 9, 10}"
      ]
     },
     "execution_count": 103,
     "metadata": {},
     "output_type": "execute_result"
    }
   ],
   "source": [
    "s6 | s7 | s8"
   ]
  },
  {
   "cell_type": "code",
   "execution_count": 105,
   "id": "eff38234-84d9-4845-a09b-24213c7c66cb",
   "metadata": {},
   "outputs": [
    {
     "name": "stdout",
     "output_type": "stream",
     "text": [
      "{1, 2, 3, 4, 5}\n",
      "{4, 5, 6, 7, 8}\n",
      "{8, 9, 10}\n"
     ]
    }
   ],
   "source": [
    "print(s6)\n",
    "print(s7)\n",
    "print(s8)"
   ]
  },
  {
   "cell_type": "code",
   "execution_count": 107,
   "id": "587c6dfa-df55-4ca9-bbee-ad0dd2255464",
   "metadata": {},
   "outputs": [
    {
     "data": {
      "text/plain": [
       "{4, 5}"
      ]
     },
     "execution_count": 107,
     "metadata": {},
     "output_type": "execute_result"
    }
   ],
   "source": [
    "s6.intersection(s7)      #common elemnts will come"
   ]
  },
  {
   "cell_type": "code",
   "execution_count": 109,
   "id": "43c0e2bb-c478-46b0-8b63-f8ab98a2158f",
   "metadata": {},
   "outputs": [
    {
     "data": {
      "text/plain": [
       "set()"
      ]
     },
     "execution_count": 109,
     "metadata": {},
     "output_type": "execute_result"
    }
   ],
   "source": [
    "s6.intersection(s8)      # no common elemnts------->the SET()"
   ]
  },
  {
   "cell_type": "code",
   "execution_count": 111,
   "id": "4de214d9-7192-4ecc-b17b-a2b9a11d1aff",
   "metadata": {},
   "outputs": [
    {
     "data": {
      "text/plain": [
       "{4, 5}"
      ]
     },
     "execution_count": 111,
     "metadata": {},
     "output_type": "execute_result"
    }
   ],
   "source": [
    "s6 & s7"
   ]
  },
  {
   "cell_type": "code",
   "execution_count": 113,
   "id": "ec6f98fc-2997-4a18-aa7b-1a6d09fe1bc9",
   "metadata": {},
   "outputs": [
    {
     "name": "stdout",
     "output_type": "stream",
     "text": [
      "{1, 2, 3, 4, 5}\n",
      "{4, 5, 6, 7, 8}\n",
      "{8, 9, 10}\n"
     ]
    }
   ],
   "source": [
    "print(s6)\n",
    "print(s7)\n",
    "print(s8)"
   ]
  },
  {
   "cell_type": "code",
   "execution_count": 115,
   "id": "bc34c62b-28e3-4936-9ff7-a90962ff4b15",
   "metadata": {},
   "outputs": [
    {
     "data": {
      "text/plain": [
       "{1, 2, 3}"
      ]
     },
     "execution_count": 115,
     "metadata": {},
     "output_type": "execute_result"
    }
   ],
   "source": [
    "s6.difference(s7)         #remove the COMMON  elemts from s6 and s7\n",
    "                          #and give remaining elements FROM S6"
   ]
  },
  {
   "cell_type": "code",
   "execution_count": 117,
   "id": "9f32cf4f-1dbd-4b9b-97ae-2d924cc2ed83",
   "metadata": {},
   "outputs": [
    {
     "data": {
      "text/plain": [
       "{1, 2, 3}"
      ]
     },
     "execution_count": 117,
     "metadata": {},
     "output_type": "execute_result"
    }
   ],
   "source": [
    "s6-s7                    #remove the COMMON  elemts from s6 and s7\n",
    "                          #and give remaining elements FROM S6"
   ]
  },
  {
   "cell_type": "code",
   "execution_count": 119,
   "id": "f214e47b-967b-454e-8b2f-2b6a6ce142d8",
   "metadata": {},
   "outputs": [
    {
     "data": {
      "text/plain": [
       "{4, 5, 6, 7}"
      ]
     },
     "execution_count": 119,
     "metadata": {},
     "output_type": "execute_result"
    }
   ],
   "source": [
    "s7-s8"
   ]
  },
  {
   "cell_type": "code",
   "execution_count": 121,
   "id": "8a6d2c09-b40b-4017-adac-26216f799795",
   "metadata": {},
   "outputs": [
    {
     "name": "stdout",
     "output_type": "stream",
     "text": [
      "{1, 2, 3, 4, 5}\n",
      "{4, 5, 6, 7, 8}\n",
      "{8, 9, 10}\n"
     ]
    }
   ],
   "source": [
    "print(s6)\n",
    "print(s7)\n",
    "print(s8)"
   ]
  },
  {
   "cell_type": "code",
   "execution_count": 123,
   "id": "09ae2f24-6a1b-49b5-97d4-c37b7ad66114",
   "metadata": {},
   "outputs": [
    {
     "data": {
      "text/plain": [
       "{9, 10}"
      ]
     },
     "execution_count": 123,
     "metadata": {},
     "output_type": "execute_result"
    }
   ],
   "source": [
    "s8-s7"
   ]
  },
  {
   "cell_type": "code",
   "execution_count": 125,
   "id": "bb5ec90f-b7d9-409c-8cb2-3ae09796cfef",
   "metadata": {},
   "outputs": [
    {
     "name": "stdout",
     "output_type": "stream",
     "text": [
      "{1, 2, 3, 4, 5}\n",
      "{4, 5, 6, 7, 8}\n",
      "{8, 9, 10}\n"
     ]
    }
   ],
   "source": [
    "print(s6)\n",
    "print(s7)\n",
    "print(s8)"
   ]
  },
  {
   "cell_type": "code",
   "execution_count": 127,
   "id": "055968fa-4ee2-4924-a068-62f95aa4b1f7",
   "metadata": {},
   "outputs": [
    {
     "data": {
      "text/plain": [
       "{1, 2, 3, 6, 7, 8}"
      ]
     },
     "execution_count": 127,
     "metadata": {},
     "output_type": "execute_result"
    }
   ],
   "source": [
    "s6.symmetric_difference(s7)    #remove the common elemets from both sets and\n",
    "                                #give result"
   ]
  },
  {
   "cell_type": "code",
   "execution_count": 141,
   "id": "dd37a68a-842b-40ed-a089-62be8028605f",
   "metadata": {},
   "outputs": [
    {
     "name": "stdout",
     "output_type": "stream",
     "text": [
      "{17, 10, 2, 4}\n"
     ]
    }
   ],
   "source": [
    "s12={10,4,2,17}        #Even though set is having same DT values using PRINT\n",
    "                        #not getting sorted elements\n",
    "print(s12)"
   ]
  },
  {
   "cell_type": "code",
   "execution_count": null,
   "id": "d75df5e1-0c59-4d7b-93ba-5d883a710b8c",
   "metadata": {},
   "outputs": [],
   "source": []
  },
  {
   "cell_type": "code",
   "execution_count": null,
   "id": "42d37fda-17df-47ac-8c3d-10f527553c10",
   "metadata": {},
   "outputs": [],
   "source": []
  },
  {
   "cell_type": "code",
   "execution_count": null,
   "id": "7b1db2d4-faf6-444c-af3f-0c6c57ff1440",
   "metadata": {},
   "outputs": [],
   "source": []
  },
  {
   "cell_type": "code",
   "execution_count": null,
   "id": "6ad98b7c-9eb8-436b-b3ae-df6dcfedfc51",
   "metadata": {},
   "outputs": [],
   "source": []
  },
  {
   "cell_type": "code",
   "execution_count": null,
   "id": "176ff989-f5bd-448b-ae76-f29a292b6d57",
   "metadata": {},
   "outputs": [],
   "source": []
  },
  {
   "cell_type": "code",
   "execution_count": null,
   "id": "d86757b6-9dab-4419-af6e-bb065d006edb",
   "metadata": {},
   "outputs": [],
   "source": []
  },
  {
   "cell_type": "code",
   "execution_count": null,
   "id": "7b79156c-dbca-4970-bd43-59ea3395c1d5",
   "metadata": {},
   "outputs": [],
   "source": []
  },
  {
   "cell_type": "code",
   "execution_count": null,
   "id": "0a6170e7-e5c9-4eae-b6a0-608a22f4ba40",
   "metadata": {},
   "outputs": [],
   "source": []
  }
 ],
 "metadata": {
  "kernelspec": {
   "display_name": "Python [conda env:base] *",
   "language": "python",
   "name": "conda-base-py"
  },
  "language_info": {
   "codemirror_mode": {
    "name": "ipython",
    "version": 3
   },
   "file_extension": ".py",
   "mimetype": "text/x-python",
   "name": "python",
   "nbconvert_exporter": "python",
   "pygments_lexer": "ipython3",
   "version": "3.12.7"
  }
 },
 "nbformat": 4,
 "nbformat_minor": 5
}
