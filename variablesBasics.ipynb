{
 "cells": [
  {
   "cell_type": "code",
   "execution_count": 1,
   "id": "0b04aaa4-25a1-4561-8985-3bdf010865ac",
   "metadata": {},
   "outputs": [
    {
     "data": {
      "text/plain": [
       "'3.12.7 | packaged by Anaconda, Inc. | (main, Oct  4 2024, 13:17:27) [MSC v.1929 64 bit (AMD64)]'"
      ]
     },
     "execution_count": 1,
     "metadata": {},
     "output_type": "execute_result"
    }
   ],
   "source": [
    "import sys\n",
    "sys.version"
   ]
  },
  {
   "cell_type": "markdown",
   "id": "8bb1eae7-d2e6-4be0-b960-4532a7454aff",
   "metadata": {},
   "source": [
    "work with Numbers"
   ]
  },
  {
   "cell_type": "code",
   "execution_count": 4,
   "id": "298d2fe4-a74f-4b28-bde6-bf11668da386",
   "metadata": {},
   "outputs": [
    {
     "data": {
      "text/plain": [
       "3"
      ]
     },
     "execution_count": 4,
     "metadata": {},
     "output_type": "execute_result"
    }
   ],
   "source": [
    "3"
   ]
  },
  {
   "cell_type": "code",
   "execution_count": 8,
   "id": "1f481e12-fd37-495e-b585-31f242587eb7",
   "metadata": {},
   "outputs": [
    {
     "data": {
      "text/plain": [
       "2"
      ]
     },
     "execution_count": 8,
     "metadata": {},
     "output_type": "execute_result"
    }
   ],
   "source": [
    "2"
   ]
  },
  {
   "cell_type": "code",
   "execution_count": 10,
   "id": "8a617ecf-e2d6-46b1-913b-fc6976b783b0",
   "metadata": {},
   "outputs": [
    {
     "data": {
      "text/plain": [
       "5"
      ]
     },
     "execution_count": 10,
     "metadata": {},
     "output_type": "execute_result"
    }
   ],
   "source": [
    "3+2"
   ]
  },
  {
   "cell_type": "code",
   "execution_count": 12,
   "id": "672e0801-ede4-4cf3-b08f-565cfacc496c",
   "metadata": {},
   "outputs": [
    {
     "data": {
      "text/plain": [
       "1"
      ]
     },
     "execution_count": 12,
     "metadata": {},
     "output_type": "execute_result"
    }
   ],
   "source": [
    "3-2"
   ]
  },
  {
   "cell_type": "code",
   "execution_count": 14,
   "id": "9167109f-40f3-49c5-9430-206bcd5bb62a",
   "metadata": {},
   "outputs": [
    {
     "data": {
      "text/plain": [
       "6"
      ]
     },
     "execution_count": 14,
     "metadata": {},
     "output_type": "execute_result"
    }
   ],
   "source": [
    "3*2"
   ]
  },
  {
   "cell_type": "code",
   "execution_count": 16,
   "id": "0b2f2430-2093-4143-9f55-a90d78ac07b1",
   "metadata": {},
   "outputs": [
    {
     "data": {
      "text/plain": [
       "9"
      ]
     },
     "execution_count": 16,
     "metadata": {},
     "output_type": "execute_result"
    }
   ],
   "source": [
    "3**2"
   ]
  },
  {
   "cell_type": "code",
   "execution_count": 18,
   "id": "15558ba8-f698-4832-8945-c6cbf15a6374",
   "metadata": {},
   "outputs": [
    {
     "data": {
      "text/plain": [
       "2.0"
      ]
     },
     "execution_count": 18,
     "metadata": {},
     "output_type": "execute_result"
    }
   ],
   "source": [
    "10/5"
   ]
  },
  {
   "cell_type": "code",
   "execution_count": 20,
   "id": "88a7d47a-4e05-49d8-af07-950d1b5b10dd",
   "metadata": {},
   "outputs": [
    {
     "data": {
      "text/plain": [
       "2"
      ]
     },
     "execution_count": 20,
     "metadata": {},
     "output_type": "execute_result"
    }
   ],
   "source": [
    "10//5"
   ]
  },
  {
   "cell_type": "code",
   "execution_count": 22,
   "id": "cfe78ba2-074d-4e48-87c2-3f29d6fb255e",
   "metadata": {},
   "outputs": [
    {
     "data": {
      "text/plain": [
       "0"
      ]
     },
     "execution_count": 22,
     "metadata": {},
     "output_type": "execute_result"
    }
   ],
   "source": [
    "10%5"
   ]
  },
  {
   "cell_type": "markdown",
   "id": "d3c03336-c207-429d-8a65-0b3cca0104b8",
   "metadata": {},
   "source": [
    "working with Strings"
   ]
  },
  {
   "cell_type": "code",
   "execution_count": 33,
   "id": "28590351-d95a-4c9a-b103-6c92fa6b6699",
   "metadata": {},
   "outputs": [
    {
     "ename": "NameError",
     "evalue": "name 'Android' is not defined",
     "output_type": "error",
     "traceback": [
      "\u001b[1;31m---------------------------------------------------------------------------\u001b[0m",
      "\u001b[1;31mNameError\u001b[0m                                 Traceback (most recent call last)",
      "Cell \u001b[1;32mIn[33], line 1\u001b[0m\n\u001b[1;32m----> 1\u001b[0m Android\n",
      "\u001b[1;31mNameError\u001b[0m: name 'Android' is not defined"
     ]
    }
   ],
   "source": [
    "Android"
   ]
  },
  {
   "cell_type": "code",
   "execution_count": 31,
   "id": "16da7754-a814-413e-bd94-41bc6b1d62c6",
   "metadata": {},
   "outputs": [
    {
     "data": {
      "text/plain": [
       "'datascientist'"
      ]
     },
     "execution_count": 31,
     "metadata": {},
     "output_type": "execute_result"
    }
   ],
   "source": [
    "'datascientist'"
   ]
  },
  {
   "cell_type": "code",
   "execution_count": 29,
   "id": "4cac881d-00fa-4509-9048-f006c6bd9961",
   "metadata": {},
   "outputs": [
    {
     "data": {
      "text/plain": [
       "'Datascientist'"
      ]
     },
     "execution_count": 29,
     "metadata": {},
     "output_type": "execute_result"
    }
   ],
   "source": [
    "\"Datascientist\""
   ]
  },
  {
   "cell_type": "code",
   "execution_count": 35,
   "id": "8b674ec1-480a-4589-905f-676a69ac7d57",
   "metadata": {},
   "outputs": [
    {
     "data": {
      "text/plain": [
       "'Datascientist'"
      ]
     },
     "execution_count": 35,
     "metadata": {},
     "output_type": "execute_result"
    }
   ],
   "source": [
    "'''Datascientist'''"
   ]
  },
  {
   "cell_type": "code",
   "execution_count": 37,
   "id": "7efd6b6b-afec-49a6-805e-e4bca0c2f4eb",
   "metadata": {},
   "outputs": [
    {
     "data": {
      "text/plain": [
       "' Datascientist '"
      ]
     },
     "execution_count": 37,
     "metadata": {},
     "output_type": "execute_result"
    }
   ],
   "source": [
    "\"\"\" Datascientist \"\"\""
   ]
  },
  {
   "cell_type": "markdown",
   "id": "6136f4ec-639a-49cc-b48b-740b0f447389",
   "metadata": {},
   "source": [
    "variable=object"
   ]
  },
  {
   "cell_type": "code",
   "execution_count": 48,
   "id": "cc8284c3-eee4-4086-9ff9-3c39252faebf",
   "metadata": {},
   "outputs": [
    {
     "data": {
      "text/plain": [
       "5"
      ]
     },
     "execution_count": 48,
     "metadata": {},
     "output_type": "execute_result"
    }
   ],
   "source": [
    "v=5    #v-variable,5-value\n",
    "v"
   ]
  },
  {
   "cell_type": "code",
   "execution_count": 50,
   "id": "e428db0a-c168-41a5-a1bf-3c1404623487",
   "metadata": {},
   "outputs": [
    {
     "data": {
      "text/plain": [
       "int"
      ]
     },
     "execution_count": 50,
     "metadata": {},
     "output_type": "execute_result"
    }
   ],
   "source": [
    "type(v)"
   ]
  },
  {
   "cell_type": "code",
   "execution_count": 54,
   "id": "4b9ed3fb-6128-4152-81ba-3cdd9c0e279f",
   "metadata": {},
   "outputs": [
    {
     "data": {
      "text/plain": [
       "140705906698808"
      ]
     },
     "execution_count": 54,
     "metadata": {},
     "output_type": "execute_result"
    }
   ],
   "source": [
    "id(v)"
   ]
  },
  {
   "cell_type": "code",
   "execution_count": 56,
   "id": "c49ce356-2b1c-49ad-a114-281d7f8b80e5",
   "metadata": {},
   "outputs": [
    {
     "ename": "NameError",
     "evalue": "name 'v2' is not defined",
     "output_type": "error",
     "traceback": [
      "\u001b[1;31m---------------------------------------------------------------------------\u001b[0m",
      "\u001b[1;31mNameError\u001b[0m                                 Traceback (most recent call last)",
      "Cell \u001b[1;32mIn[56], line 2\u001b[0m\n\u001b[0;32m      1\u001b[0m v\u001b[38;5;241m=\u001b[39m\u001b[38;5;124m'\u001b[39m\u001b[38;5;124mint\u001b[39m\u001b[38;5;124m'\u001b[39m\n\u001b[1;32m----> 2\u001b[0m v2\n",
      "\u001b[1;31mNameError\u001b[0m: name 'v2' is not defined"
     ]
    }
   ],
   "source": [
    "v='int'\n",
    "v2"
   ]
  },
  {
   "cell_type": "code",
   "execution_count": 62,
   "id": "e4f3cfec-4cf2-4522-8ebc-eeff7059f0d2",
   "metadata": {},
   "outputs": [
    {
     "data": {
      "text/plain": [
       "'int'"
      ]
     },
     "execution_count": 62,
     "metadata": {},
     "output_type": "execute_result"
    }
   ],
   "source": [
    "v"
   ]
  },
  {
   "cell_type": "markdown",
   "id": "7126a748-b05b-4797-b348-c07b8105a28a",
   "metadata": {},
   "source": [
    "26TH"
   ]
  },
  {
   "cell_type": "code",
   "execution_count": 65,
   "id": "3f93e897-7d5f-43ae-b04a-1e79e7ad2f46",
   "metadata": {},
   "outputs": [
    {
     "data": {
      "text/plain": [
       "float"
      ]
     },
     "execution_count": 65,
     "metadata": {},
     "output_type": "execute_result"
    }
   ],
   "source": [
    "a=2.2\n",
    "type(a)"
   ]
  },
  {
   "cell_type": "code",
   "execution_count": 67,
   "id": "72877210-8305-41fa-ba68-1be9e7923e29",
   "metadata": {},
   "outputs": [
    {
     "ename": "SyntaxError",
     "evalue": "invalid decimal literal (3782790406.py, line 1)",
     "output_type": "error",
     "traceback": [
      "\u001b[1;36m  Cell \u001b[1;32mIn[67], line 1\u001b[1;36m\u001b[0m\n\u001b[1;33m    1a=10\u001b[0m\n\u001b[1;37m    ^\u001b[0m\n\u001b[1;31mSyntaxError\u001b[0m\u001b[1;31m:\u001b[0m invalid decimal literal\n"
     ]
    }
   ],
   "source": [
    "1a=10"
   ]
  },
  {
   "cell_type": "code",
   "execution_count": 77,
   "id": "1f47523c-fb46-4e31-8ecd-621816328655",
   "metadata": {},
   "outputs": [
    {
     "ename": "SyntaxError",
     "evalue": "invalid syntax (3196953458.py, line 1)",
     "output_type": "error",
     "traceback": [
      "\u001b[1;36m  Cell \u001b[1;32mIn[77], line 1\u001b[1;36m\u001b[0m\n\u001b[1;33m    a$=20\u001b[0m\n\u001b[1;37m     ^\u001b[0m\n\u001b[1;31mSyntaxError\u001b[0m\u001b[1;31m:\u001b[0m invalid syntax\n"
     ]
    }
   ],
   "source": [
    "a$=20"
   ]
  },
  {
   "cell_type": "code",
   "execution_count": 75,
   "id": "fbc9946b-196c-4098-80b9-8ca062b44283",
   "metadata": {},
   "outputs": [
    {
     "data": {
      "text/plain": [
       "10"
      ]
     },
     "execution_count": 75,
     "metadata": {},
     "output_type": "execute_result"
    }
   ],
   "source": [
    "a1=10\n",
    "a1"
   ]
  },
  {
   "cell_type": "code",
   "execution_count": 79,
   "id": "78f4553c-0d9f-44b3-aa64-5f1aabc29a5b",
   "metadata": {},
   "outputs": [],
   "source": [
    "apple,mango,pinaapple=10,20,30\n"
   ]
  },
  {
   "cell_type": "code",
   "execution_count": 83,
   "id": "52b445dd-c4a5-4161-ab89-e308da0e5a61",
   "metadata": {},
   "outputs": [
    {
     "name": "stdout",
     "output_type": "stream",
     "text": [
      "10\n",
      "20\n",
      "30\n"
     ]
    }
   ],
   "source": [
    "print(apple)\n",
    "print(mango)\n",
    "print(pinaapple)"
   ]
  },
  {
   "cell_type": "code",
   "execution_count": 99,
   "id": "e1aae7b8-3212-4a10-868c-69a2659bd66c",
   "metadata": {},
   "outputs": [
    {
     "name": "stdout",
     "output_type": "stream",
     "text": [
      "apple\n",
      "mango\n",
      "pinaapple lemon\n"
     ]
    }
   ],
   "source": [
    "fruits=(\"apple\",\"mango\",\"pinaapple\",\"lemon\")------------- #TUPLE PACKING\n",
    "(like,average,*dislike)=fruits----------------------------#TUPLE UNPACKING\n",
    "print(like)\n",
    "print(average)\n",
    "print(*dislike)\n",
    "\n",
    "\n"
   ]
  },
  {
   "cell_type": "code",
   "execution_count": 101,
   "id": "a7c82be4-e150-4d11-bc53-7250bf7ab7eb",
   "metadata": {},
   "outputs": [
    {
     "data": {
      "text/plain": [
       "['False',\n",
       " 'None',\n",
       " 'True',\n",
       " 'and',\n",
       " 'as',\n",
       " 'assert',\n",
       " 'async',\n",
       " 'await',\n",
       " 'break',\n",
       " 'class',\n",
       " 'continue',\n",
       " 'def',\n",
       " 'del',\n",
       " 'elif',\n",
       " 'else',\n",
       " 'except',\n",
       " 'finally',\n",
       " 'for',\n",
       " 'from',\n",
       " 'global',\n",
       " 'if',\n",
       " 'import',\n",
       " 'in',\n",
       " 'is',\n",
       " 'lambda',\n",
       " 'nonlocal',\n",
       " 'not',\n",
       " 'or',\n",
       " 'pass',\n",
       " 'raise',\n",
       " 'return',\n",
       " 'try',\n",
       " 'while',\n",
       " 'with',\n",
       " 'yield']"
      ]
     },
     "execution_count": 101,
     "metadata": {},
     "output_type": "execute_result"
    }
   ],
   "source": [
    "import keyword\n",
    "keyword.kwlist"
   ]
  },
  {
   "cell_type": "code",
   "execution_count": 115,
   "id": "957343d6-0c9f-443c-97b7-7a6af2c5e050",
   "metadata": {
    "jupyter": {
     "source_hidden": true
    }
   },
   "outputs": [
    {
     "ename": "SyntaxError",
     "evalue": "cannot assign to True (4269225082.py, line 1)",
     "output_type": "error",
     "traceback": [
      "\u001b[1;36m  Cell \u001b[1;32mIn[115], line 1\u001b[1;36m\u001b[0m\n\u001b[1;33m    True=10\u001b[0m\n\u001b[1;37m    ^\u001b[0m\n\u001b[1;31mSyntaxError\u001b[0m\u001b[1;31m:\u001b[0m cannot assign to True\n"
     ]
    }
   ],
   "source": [
    "True=10\n",
    "True"
   ]
  },
  {
   "cell_type": "code",
   "execution_count": 113,
   "id": "cf3614bc-1659-4482-a32e-729fd1dbd898",
   "metadata": {},
   "outputs": [
    {
     "name": "stdout",
     "output_type": "stream",
     "text": [
      "None\n"
     ]
    }
   ],
   "source": [
    "None==5\n",
    "print(None)"
   ]
  },
  {
   "cell_type": "code",
   "execution_count": 117,
   "id": "bb8c0bcc-ae18-4c57-b79e-1e9663fa54c3",
   "metadata": {},
   "outputs": [
    {
     "data": {
      "text/plain": [
       "90"
      ]
     },
     "execution_count": 117,
     "metadata": {},
     "output_type": "execute_result"
    }
   ],
   "source": [
    "For=90\n",
    "For"
   ]
  },
  {
   "cell_type": "code",
   "execution_count": 119,
   "id": "5d819afc-d2cd-43a5-ad75-c7e1f4651638",
   "metadata": {},
   "outputs": [
    {
     "data": {
      "text/plain": [
       "90"
      ]
     },
     "execution_count": 119,
     "metadata": {},
     "output_type": "execute_result"
    }
   ],
   "source": [
    "aaaaaaaaaaaaaaaaaaaaaaaaaaaaaaaaaaaaaaaaaaaaaaaaaaaaaaaaaa=90\n",
    "aaaaaaaaaaaaaaaaaaaaaaaaaaaaaaaaaaaaaaaaaaaaaaaaaaaaaaaaaa"
   ]
  },
  {
   "cell_type": "markdown",
   "id": "0a44b555-8fa0-4d82-85a4-18e532f6f483",
   "metadata": {},
   "source": [
    "Variables are COMPLETED"
   ]
  },
  {
   "cell_type": "code",
   "execution_count": null,
   "id": "83cb7ed4-4211-416a-85b7-973275914629",
   "metadata": {},
   "outputs": [],
   "source": []
  },
  {
   "cell_type": "code",
   "execution_count": null,
   "id": "7c13fef2-5d71-4810-ba0c-de1a86724562",
   "metadata": {},
   "outputs": [],
   "source": []
  },
  {
   "cell_type": "code",
   "execution_count": null,
   "id": "7b081698-2fe6-4800-b858-def904b2f612",
   "metadata": {},
   "outputs": [],
   "source": []
  },
  {
   "cell_type": "code",
   "execution_count": null,
   "id": "b4a73af7-9a3f-42f9-81a3-a69681413ac0",
   "metadata": {},
   "outputs": [],
   "source": []
  },
  {
   "cell_type": "code",
   "execution_count": null,
   "id": "a0011f7b-2805-48ee-abf2-fa98e23537f8",
   "metadata": {},
   "outputs": [],
   "source": []
  },
  {
   "cell_type": "code",
   "execution_count": null,
   "id": "07bf530c-8b10-4ec6-ac9b-2990a1732d6c",
   "metadata": {},
   "outputs": [],
   "source": []
  },
  {
   "cell_type": "code",
   "execution_count": null,
   "id": "cbe42a52-9301-4177-9c47-0571610d5bbb",
   "metadata": {},
   "outputs": [],
   "source": []
  },
  {
   "cell_type": "code",
   "execution_count": null,
   "id": "c5540298-553f-4f8b-b616-88a234e45303",
   "metadata": {},
   "outputs": [],
   "source": []
  },
  {
   "cell_type": "code",
   "execution_count": null,
   "id": "d6f108ee-ee69-4926-aef3-63d909e096fe",
   "metadata": {},
   "outputs": [],
   "source": []
  }
 ],
 "metadata": {
  "kernelspec": {
   "display_name": "Python [conda env:base] *",
   "language": "python",
   "name": "conda-base-py"
  },
  "language_info": {
   "codemirror_mode": {
    "name": "ipython",
    "version": 3
   },
   "file_extension": ".py",
   "mimetype": "text/x-python",
   "name": "python",
   "nbconvert_exporter": "python",
   "pygments_lexer": "ipython3",
   "version": "3.12.7"
  }
 },
 "nbformat": 4,
 "nbformat_minor": 5
}
